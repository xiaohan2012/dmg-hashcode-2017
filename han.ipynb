{
 "cells": [
  {
   "cell_type": "code",
   "execution_count": 10,
   "metadata": {
    "collapsed": true
   },
   "outputs": [],
   "source": [
    "import numpy as np\n",
    "from collections import defaultdict "
   ]
  },
  {
   "cell_type": "code",
   "execution_count": 8,
   "metadata": {
    "collapsed": true
   },
   "outputs": [],
   "source": [
    "def split2int(s):\n",
    "    return list(map(int, s.split()))"
   ]
  },
  {
   "cell_type": "code",
   "execution_count": 21,
   "metadata": {
    "collapsed": false
   },
   "outputs": [],
   "source": [
    "data = 'kittens.in'\n",
    "end2cache_latency = defaultdict(dict)\n",
    "with open('data/{}'.format(data), 'r') as f:\n",
    "    V, E, R, C, X = split2int(f.readline())\n",
    "    video_sizes = {i: int(size)\n",
    "                   for i, size in enumerate(f.readline().strip().split())}\n",
    "    for endpoint_i in range(E):\n",
    "        latency2center, n_caches = split2int(f.readline())\n",
    "        for _ in range(n_caches):\n",
    "            cache, latency = split2int(f.readline())\n",
    "            end2cache_latency[endpoint_i][cache] = latency            \n",
    "        endpoint_i += 1\n",
    "    "
   ]
  },
  {
   "cell_type": "code",
   "execution_count": 19,
   "metadata": {
    "collapsed": false
   },
   "outputs": [
    {
     "data": {
      "text/plain": [
       "85"
      ]
     },
     "execution_count": 19,
     "metadata": {},
     "output_type": "execute_result"
    }
   ],
   "source": [
    "end2cache_latency[0][499]"
   ]
  }
 ],
 "metadata": {
  "kernelspec": {
   "display_name": "Python 3",
   "language": "python",
   "name": "python3"
  },
  "language_info": {
   "codemirror_mode": {
    "name": "ipython",
    "version": 3
   },
   "file_extension": ".py",
   "mimetype": "text/x-python",
   "name": "python",
   "nbconvert_exporter": "python",
   "pygments_lexer": "ipython3",
   "version": "3.5.2"
  }
 },
 "nbformat": 4,
 "nbformat_minor": 0
}
